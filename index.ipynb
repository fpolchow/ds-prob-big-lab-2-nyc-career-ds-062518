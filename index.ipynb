{
 "cells": [
  {
   "cell_type": "markdown",
   "metadata": {},
   "source": [
    "## Gambling and sports betting"
   ]
  },
  {
   "cell_type": "markdown",
   "metadata": {},
   "source": [
    "## Exercise 1: Soccer World Cup"
   ]
  },
  {
   "cell_type": "markdown",
   "metadata": {},
   "source": [
    "Belgium is planning on making it far in the soccer world cup. Currently waiting from the group phase and already knowing that they are qualified, Belgium knows that there are 4 potential opponents they may face in the quarter finals. Projections for playing the following countries look as follows:\n",
    "\n",
    "- Brazil, with a 30% chance.\n",
    "- Colombia, with a 15% chance\n",
    "- Sweden, with 35% chance\n",
    "- Switzerland, with a 20% chance."
   ]
  },
  {
   "cell_type": "markdown",
   "metadata": {},
   "source": [
    "According to online betting company Ladbrokes, Belgiums chances of winning against these contries are given by the following probabilities:\n",
    "\n",
    "- Against Brazil, Belgium has a 27% chance of winning.\n",
    "- Against Colombia, Belgium has a 68% chance of winning.\n",
    "- Against Sweden, Belgium has a 55% chance of winning.\n",
    "- Against Switzerland, Belgium has a 73% chance of winning.\n"
   ]
  },
  {
   "cell_type": "markdown",
   "metadata": {},
   "source": [
    "Fast forward, and it turns out Belgium has won the quarter finals. What is the probability that they did NOT play against Brazil?"
   ]
  },
  {
   "cell_type": "markdown",
   "metadata": {},
   "source": [
    "### Solution"
   ]
  },
  {
   "cell_type": "code",
   "execution_count": null,
   "metadata": {},
   "outputs": [],
   "source": [
    "#\n",
    "prob_not_Brazil = None\n",
    "prob_not_Brazil # correct answer: 0.8446788111217641"
   ]
  },
  {
   "cell_type": "markdown",
   "metadata": {},
   "source": [
    "## Exercise 2: Probability that each person has one ace"
   ]
  },
  {
   "cell_type": "markdown",
   "metadata": {},
   "source": [
    "A deck of 52 cards is distributed between 4 people (so each player gets 13 cards). What is the probability that each player gets exactly one ace?"
   ]
  },
  {
   "cell_type": "markdown",
   "metadata": {},
   "source": [
    "### Solution"
   ]
  },
  {
   "cell_type": "code",
   "execution_count": 3,
   "metadata": {},
   "outputs": [],
   "source": [
    "import math\n",
    "import scipy.special as prob\n",
    "\n",
    "#\n",
    "#\n",
    "everyone_one_ace = None\n",
    "\n",
    "everyone_one_ace # correct answer: 0.10549819927971187"
   ]
  },
  {
   "cell_type": "markdown",
   "metadata": {},
   "source": [
    "## Exercise 3: Poker: four of a kind"
   ]
  },
  {
   "cell_type": "markdown",
   "metadata": {},
   "source": [
    "If you're being dealt 5 cards, what is the probability for you to get four of a kind?"
   ]
  },
  {
   "cell_type": "markdown",
   "metadata": {},
   "source": [
    "### Solution"
   ]
  },
  {
   "cell_type": "code",
   "execution_count": 1,
   "metadata": {},
   "outputs": [],
   "source": [
    "four_of_a_kind = None\n",
    "four_of_a_kind # correct answer: 0.00024009603841536616"
   ]
  },
  {
   "cell_type": "markdown",
   "metadata": {},
   "source": [
    "## Exercise 4: Poker: 3 of a kind"
   ]
  },
  {
   "cell_type": "markdown",
   "metadata": {},
   "source": [
    "Now calculate the probability that you get three of a kind. This is harder!! you have to take two things into account:\n",
    "- you want to get a three of a kind, and not \"by coincidence\" a full house.\n",
    "- you want to get a three of a kind, and not \"by coincidence\" a four of a kind."
   ]
  },
  {
   "cell_type": "markdown",
   "metadata": {},
   "source": [
    "### Solution"
   ]
  },
  {
   "cell_type": "code",
   "execution_count": null,
   "metadata": {},
   "outputs": [],
   "source": [
    "three_of_a_kind = None\n",
    "three_of_a_kind # correct answer: 0.02112845138055222"
   ]
  },
  {
   "cell_type": "markdown",
   "metadata": {},
   "source": [
    "# sources"
   ]
  },
  {
   "cell_type": "markdown",
   "metadata": {},
   "source": [
    "https://owlcation.com/stem/Cracking-Combinatorics-and-Probability-Card-Game-Problems"
   ]
  }
 ],
 "metadata": {
  "kernelspec": {
   "display_name": "Python 3",
   "language": "python",
   "name": "python3"
  },
  "language_info": {
   "codemirror_mode": {
    "name": "ipython",
    "version": 3
   },
   "file_extension": ".py",
   "mimetype": "text/x-python",
   "name": "python",
   "nbconvert_exporter": "python",
   "pygments_lexer": "ipython3",
   "version": "3.6.6"
  }
 },
 "nbformat": 4,
 "nbformat_minor": 2
}
